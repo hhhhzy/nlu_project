{
 "cells": [
  {
   "cell_type": "code",
   "execution_count": 2,
   "metadata": {},
   "outputs": [],
   "source": [
    "from lenskit import batch, topn, util\n",
    "from lenskit import crossfold as xf\n",
    "from lenskit.algorithms import Recommender, als, bias, item_knn as knn\n",
    "from lenskit.metrics import topn\n",
    "from lenskit.metrics.predict import rmse, mae\n",
    "import pickle\n",
    "import pandas as pd\n",
    "from utils import *\n",
    "import numpy as np\n",
    "from lenskit.algorithms.svd import BiasedSVD"
   ]
  },
  {
   "cell_type": "code",
   "execution_count": 4,
   "metadata": {},
   "outputs": [],
   "source": [
    "data = pd.read_csv('../data/amazon_video.csv').drop('Unnamed: 0', axis=1)\n",
    "\n",
    "usr_idx_dict = {}\n",
    "for idx, usr in enumerate(data.user.unique()):\n",
    "    usr_idx_dict[usr] = idx\n",
    "\n",
    "data['user'] = data.user.map(usr_idx_dict)\n",
    "\n",
    "item_idx_dict = {}\n",
    "for idx, track in enumerate(data.item.unique()):\n",
    "    item_idx_dict[track] = idx\n",
    "\n",
    "data['item'] = data.item.map(item_idx_dict)\n"
   ]
  },
  {
   "cell_type": "code",
   "execution_count": 67,
   "metadata": {},
   "outputs": [],
   "source": [
    "# data_sparse = data.sample(frac=0.6)\n",
    "# val_sparse_user = data_sparse.sample(frac=0.3)\n",
    "# val_sparse_user = list(set(val_sparse_user.user))\n",
    "# val_sparse = data_sparse[data_sparse.user.isin(val_sparse_user)]\n",
    "# data_sparse = data_sparse[~data_sparse.user.isin(val_sparse_user)]"
   ]
  },
  {
   "cell_type": "code",
   "execution_count": 126,
   "metadata": {},
   "outputs": [
    {
     "data": {
      "text/plain": [
       "0"
      ]
     },
     "execution_count": 126,
     "metadata": {},
     "output_type": "execute_result"
    }
   ],
   "source": [
    "sum(sent.index.isin(data_sparse.index))"
   ]
  },
  {
   "cell_type": "code",
   "execution_count": 132,
   "metadata": {},
   "outputs": [],
   "source": [
    "# 60% true ratings\n",
    "\n",
    "data_sparse = data.sample(frac=0.6)\n",
    "distinct_users_sparse = list(set(data_sparse.user))\n",
    "\n",
    "#sample 30% users along with their items\n",
    "val_sparse_user = np.random.choice(len(distinct_users_sparse), size = int(np.floor(len(distinct_users_sparse) * 0.3)), \n",
    "                                   replace=False)\n",
    "val_sparse = data_sparse[data_sparse.user.isin(val_sparse_user)]\n",
    "\n",
    "data_sparse = data_sparse[~data_sparse.user.isin(val_sparse_user)]\n",
    "\n",
    "\n",
    "# 40% sparse\n",
    "\n",
    "non_sparse = data.loc[list(set(data.index) - set(data_sparse.index) - set(val_sparse.index))]\n",
    "distinct_users_nonsparse = list(set(non_sparse.user))\n",
    "\n",
    "val_nonsparse_user = np.random.choice(len(distinct_users_nonsparse), size = int(np.floor(len(distinct_users_nonsparse) * 0.3)),\n",
    "                                      replace=False)\n",
    "val_nonsparse = non_sparse[non_sparse.user.isin(val_nonsparse_user)]\n",
    "\n",
    "non_sparse = non_sparse[~non_sparse.user.isin(val_nonsparse_user)]\n",
    "\n",
    "sent = data.loc[non_sparse.index].drop(columns=['rating'])\n",
    "sent = sent.rename(columns={'senti_rating_finetune':'rating'})\n",
    "\n",
    "non_sparse['rating'] = non_sparse.rating.mask(non_sparse.rating>-10)\n",
    "\n",
    "data_sent = pd.concat([data_sparse, sent], axis=0)\n",
    "\n",
    "data_sparse_o = pd.concat([data_sparse, non_sparse], axis=0)\n",
    "\n",
    "# export validation set\n",
    "val_data = pd.concat([val_sparse, val_nonsparse], axis=0).drop(columns=['senti_rating_finetune'])\n",
    "val_data.to_parquet('../data/val_data.pq')\n",
    "\n",
    "data_sparse_o.to_parquet('../data/train_sparse.pq')\n",
    "\n",
    "data_sent.to_parquet('../data/train_sent.pq')"
   ]
  },
  {
   "cell_type": "code",
   "execution_count": 133,
   "metadata": {},
   "outputs": [],
   "source": [
    "data_sparse.to_parquet('../data/train_sparse.pq')"
   ]
  },
  {
   "cell_type": "code",
   "execution_count": 25,
   "metadata": {},
   "outputs": [
    {
     "data": {
      "text/html": [
       "<div>\n",
       "<style scoped>\n",
       "    .dataframe tbody tr th:only-of-type {\n",
       "        vertical-align: middle;\n",
       "    }\n",
       "\n",
       "    .dataframe tbody tr th {\n",
       "        vertical-align: top;\n",
       "    }\n",
       "\n",
       "    .dataframe thead th {\n",
       "        text-align: right;\n",
       "    }\n",
       "</style>\n",
       "<table border=\"1\" class=\"dataframe\">\n",
       "  <thead>\n",
       "    <tr style=\"text-align: right;\">\n",
       "      <th></th>\n",
       "      <th>user</th>\n",
       "      <th>item</th>\n",
       "      <th>rating</th>\n",
       "      <th>senti_rating_finetune</th>\n",
       "    </tr>\n",
       "  </thead>\n",
       "  <tbody>\n",
       "    <tr>\n",
       "      <th>97019</th>\n",
       "      <td>60155</td>\n",
       "      <td>5095</td>\n",
       "      <td>5</td>\n",
       "      <td>5</td>\n",
       "    </tr>\n",
       "    <tr>\n",
       "      <th>97137</th>\n",
       "      <td>60155</td>\n",
       "      <td>6554</td>\n",
       "      <td>4</td>\n",
       "      <td>4</td>\n",
       "    </tr>\n",
       "    <tr>\n",
       "      <th>97696</th>\n",
       "      <td>60155</td>\n",
       "      <td>30822</td>\n",
       "      <td>3</td>\n",
       "      <td>5</td>\n",
       "    </tr>\n",
       "    <tr>\n",
       "      <th>97960</th>\n",
       "      <td>60155</td>\n",
       "      <td>45678</td>\n",
       "      <td>5</td>\n",
       "      <td>5</td>\n",
       "    </tr>\n",
       "    <tr>\n",
       "      <th>97972</th>\n",
       "      <td>60155</td>\n",
       "      <td>45683</td>\n",
       "      <td>4</td>\n",
       "      <td>4</td>\n",
       "    </tr>\n",
       "    <tr>\n",
       "      <th>...</th>\n",
       "      <td>...</td>\n",
       "      <td>...</td>\n",
       "      <td>...</td>\n",
       "      <td>...</td>\n",
       "    </tr>\n",
       "    <tr>\n",
       "      <th>276256</th>\n",
       "      <td>60155</td>\n",
       "      <td>12313</td>\n",
       "      <td>5</td>\n",
       "      <td>5</td>\n",
       "    </tr>\n",
       "    <tr>\n",
       "      <th>276423</th>\n",
       "      <td>60155</td>\n",
       "      <td>37874</td>\n",
       "      <td>4</td>\n",
       "      <td>4</td>\n",
       "    </tr>\n",
       "    <tr>\n",
       "      <th>276504</th>\n",
       "      <td>60155</td>\n",
       "      <td>28233</td>\n",
       "      <td>4</td>\n",
       "      <td>5</td>\n",
       "    </tr>\n",
       "    <tr>\n",
       "      <th>276809</th>\n",
       "      <td>60155</td>\n",
       "      <td>18209</td>\n",
       "      <td>3</td>\n",
       "      <td>5</td>\n",
       "    </tr>\n",
       "    <tr>\n",
       "      <th>278147</th>\n",
       "      <td>60155</td>\n",
       "      <td>14293</td>\n",
       "      <td>5</td>\n",
       "      <td>4</td>\n",
       "    </tr>\n",
       "  </tbody>\n",
       "</table>\n",
       "<p>1005 rows × 4 columns</p>\n",
       "</div>"
      ],
      "text/plain": [
       "         user   item  rating  senti_rating_finetune\n",
       "97019   60155   5095       5                      5\n",
       "97137   60155   6554       4                      4\n",
       "97696   60155  30822       3                      5\n",
       "97960   60155  45678       5                      5\n",
       "97972   60155  45683       4                      4\n",
       "...       ...    ...     ...                    ...\n",
       "276256  60155  12313       5                      5\n",
       "276423  60155  37874       4                      4\n",
       "276504  60155  28233       4                      5\n",
       "276809  60155  18209       3                      5\n",
       "278147  60155  14293       5                      4\n",
       "\n",
       "[1005 rows x 4 columns]"
      ]
     },
     "execution_count": 25,
     "metadata": {},
     "output_type": "execute_result"
    }
   ],
   "source": [
    "data[data.user == 60155]"
   ]
  },
  {
   "cell_type": "code",
   "execution_count": 3,
   "metadata": {},
   "outputs": [],
   "source": [
    "item_counts = data.groupby('user')['item'].count()"
   ]
  },
  {
   "cell_type": "code",
   "execution_count": 8,
   "metadata": {},
   "outputs": [
    {
     "data": {
      "text/plain": [
       "6733"
      ]
     },
     "execution_count": 8,
     "metadata": {},
     "output_type": "execute_result"
    }
   ],
   "source": [
    "sub_ids = item_counts[item_counts > 5].index.values\n",
    "len(sub_ids)"
   ]
  },
  {
   "cell_type": "code",
   "execution_count": 12,
   "metadata": {},
   "outputs": [],
   "source": [
    "data_sub_truth = pd.DataFrame()\n",
    "for u in sub_ids:\n",
    "    data_sub_truth = data_sub_truth.append(data_truth.iloc[data_truth.user.values == u, :])\n",
    "\n",
    "data_sub_bert = pd.DataFrame()\n",
    "for u in sub_ids:\n",
    "    data_sub_bert = data_sub_bert.append(data_bert.iloc[data_bert.user.values == u, :])"
   ]
  },
  {
   "cell_type": "markdown",
   "metadata": {},
   "source": [
    "# BiasedSVD"
   ]
  },
  {
   "cell_type": "code",
   "execution_count": 19,
   "metadata": {},
   "outputs": [
    {
     "data": {
      "text/plain": [
       "<lenskit.algorithms.ranking.TopN at 0x14eb7af030d0>"
      ]
     },
     "execution_count": 19,
     "metadata": {},
     "output_type": "execute_result"
    }
   ],
   "source": [
    "algo_als = BiasedSVD(features=20, damping = 2, bias=True)\n",
    "\n",
    "fittable = util.clone(algo_als)\n",
    "\n",
    "fittable = Recommender.adapt(fittable)\n",
    "\n",
    "fittable.fit(data_bert, n_jobs = -1)"
   ]
  },
  {
   "cell_type": "code",
   "execution_count": 20,
   "metadata": {},
   "outputs": [
    {
     "name": "stderr",
     "output_type": "stream",
     "text": [
      "100%|██████████| 6733/6733 [00:05<00:00, 1276.50it/s]\n",
      "100%|██████████| 6733/6733 [00:05<00:00, 1266.91it/s]\n",
      "100%|██████████| 6733/6733 [00:05<00:00, 1160.75it/s]\n"
     ]
    },
    {
     "data": {
      "text/plain": [
       "{'pk': 0.0, 'meanAP': 0.0, 'NDCG': 0.0}"
      ]
     },
     "execution_count": 20,
     "metadata": {},
     "output_type": "execute_result"
    }
   ],
   "source": [
    "K = 10\n",
    "recs = batch.recommend(fittable, sub_ids, K, n_jobs = 10)\n",
    "recs['user'] = recs['user'].map(int)\n",
    "get_metrics(K, recs, data_sub_bert)"
   ]
  },
  {
   "cell_type": "markdown",
   "metadata": {},
   "source": [
    "# BiasedMF ALS"
   ]
  },
  {
   "cell_type": "code",
   "execution_count": 21,
   "metadata": {},
   "outputs": [
    {
     "data": {
      "text/plain": [
       "<lenskit.algorithms.ranking.TopN at 0x14eb7bd0eb50>"
      ]
     },
     "execution_count": 21,
     "metadata": {},
     "output_type": "execute_result"
    }
   ],
   "source": [
    "algo_als = als.BiasedMF(features=30, iterations = 20, reg = 0.01, damping = 2, bias=True,  method = 'cd')\n",
    "\n",
    "fittable = util.clone(algo_als)\n",
    "\n",
    "fittable = Recommender.adapt(fittable)\n",
    "\n",
    "fittable.fit(data_bert, n_jobs = -1)"
   ]
  },
  {
   "cell_type": "code",
   "execution_count": null,
   "metadata": {},
   "outputs": [],
   "source": [
    "with open('als.pkl', 'wb') as f:\n",
    "    pickle.dump(fittable, f, protocol = pickle.HIGHEST_PROTOCOL)"
   ]
  },
  {
   "cell_type": "code",
   "execution_count": null,
   "metadata": {},
   "outputs": [],
   "source": [
    "with open('als.pkl', 'rb') as f:\n",
    "    fittable = pickle.load(f)"
   ]
  },
  {
   "cell_type": "code",
   "execution_count": 22,
   "metadata": {},
   "outputs": [
    {
     "name": "stderr",
     "output_type": "stream",
     "text": [
      "100%|██████████| 6733/6733 [00:05<00:00, 1267.42it/s]\n",
      "100%|██████████| 6733/6733 [00:05<00:00, 1257.13it/s]\n",
      "100%|██████████| 6733/6733 [00:05<00:00, 1148.84it/s]\n"
     ]
    },
    {
     "data": {
      "text/plain": [
       "{'pk': 0.0, 'meanAP': 0.0, 'NDCG': 0.0}"
      ]
     },
     "execution_count": 22,
     "metadata": {},
     "output_type": "execute_result"
    }
   ],
   "source": [
    "K = 10\n",
    "recs = batch.recommend(fittable, sub_ids, K, n_jobs = 10)\n",
    "recs['user'] = recs['user'].map(int)\n",
    "get_metrics(K, recs, data_sub_bert)"
   ]
  },
  {
   "cell_type": "code",
   "execution_count": null,
   "metadata": {},
   "outputs": [],
   "source": [
    "with open('recs_raw.pkl', 'wb') as f:\n",
    "    pickle.dump(recs, f, protocol = pickle.HIGHEST_PROTOCOL)"
   ]
  },
  {
   "cell_type": "code",
   "execution_count": null,
   "metadata": {},
   "outputs": [],
   "source": []
  }
 ],
 "metadata": {
  "kernelspec": {
   "display_name": "Python 3 (ipykernel)",
   "language": "python",
   "name": "python3"
  },
  "language_info": {
   "codemirror_mode": {
    "name": "ipython",
    "version": 3
   },
   "file_extension": ".py",
   "mimetype": "text/x-python",
   "name": "python",
   "nbconvert_exporter": "python",
   "pygments_lexer": "ipython3",
   "version": "3.9.12"
  }
 },
 "nbformat": 4,
 "nbformat_minor": 4
}
