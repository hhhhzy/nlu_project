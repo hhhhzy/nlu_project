{
 "cells": [
  {
   "cell_type": "code",
   "execution_count": 1,
   "metadata": {},
   "outputs": [
    {
     "name": "stdout",
     "output_type": "stream",
     "text": [
      "Defaulting to user installation because normal site-packages is not writeable\n",
      "Requirement already satisfied: openprompt in /home/zh2095/.local/lib/python3.8/site-packages (1.0.0)\n",
      "Requirement already satisfied: sentencepiece==0.1.96 in /home/zh2095/.local/lib/python3.8/site-packages (from openprompt) (0.1.96)\n",
      "Requirement already satisfied: tensorboardX in /home/zh2095/.local/lib/python3.8/site-packages (from openprompt) (2.5)\n",
      "Requirement already satisfied: datasets in /ext3/conda/bootcamp/lib/python3.8/site-packages (from openprompt) (2.0.0)\n",
      "Requirement already satisfied: nltk in /ext3/conda/bootcamp/lib/python3.8/site-packages (from openprompt) (3.6.2)\n",
      "Requirement already satisfied: dill in /ext3/conda/bootcamp/lib/python3.8/site-packages (from openprompt) (0.3.4)\n",
      "Requirement already satisfied: tqdm>=4.62.2 in /ext3/conda/bootcamp/lib/python3.8/site-packages (from openprompt) (4.64.0)\n",
      "Requirement already satisfied: transformers>=4.10.0 in /ext3/conda/bootcamp/lib/python3.8/site-packages (from openprompt) (4.18.0)\n",
      "Requirement already satisfied: scipy in /ext3/conda/bootcamp/lib/python3.8/site-packages (from openprompt) (1.6.3)\n",
      "Requirement already satisfied: yacs in /ext3/conda/bootcamp/lib/python3.8/site-packages (from openprompt) (0.1.8)\n",
      "Requirement already satisfied: rouge==1.0.0 in /home/zh2095/.local/lib/python3.8/site-packages (from openprompt) (1.0.0)\n",
      "Requirement already satisfied: pyarrow in /home/zh2095/.local/lib/python3.8/site-packages (from openprompt) (7.0.0)\n",
      "Requirement already satisfied: six in /share/apps/python/3.8.6/intel/lib/python3.8/site-packages (from tensorboardX->openprompt) (1.15.0)\n",
      "Requirement already satisfied: numpy in /home/zh2095/.local/lib/python3.8/site-packages (from tensorboardX->openprompt) (1.21.3)\n",
      "Requirement already satisfied: protobuf>=3.8.0 in /home/zh2095/.local/lib/python3.8/site-packages (from tensorboardX->openprompt) (3.19.0)\n",
      "Requirement already satisfied: fsspec[http]>=2021.05.0 in /home/zh2095/.local/lib/python3.8/site-packages (from datasets->openprompt) (2022.3.0)\n",
      "Requirement already satisfied: packaging in /share/apps/python/3.8.6/intel/lib/python3.8/site-packages (from datasets->openprompt) (20.4)\n",
      "Requirement already satisfied: responses<0.19 in /ext3/conda/bootcamp/lib/python3.8/site-packages (from datasets->openprompt) (0.18.0)\n",
      "Requirement already satisfied: xxhash in /ext3/conda/bootcamp/lib/python3.8/site-packages (from datasets->openprompt) (3.0.0)\n",
      "Requirement already satisfied: pandas in /share/apps/python/3.8.6/intel/lib/python3.8/site-packages (from datasets->openprompt) (1.1.3)\n",
      "Requirement already satisfied: requests>=2.19.0 in /share/apps/python/3.8.6/intel/lib/python3.8/site-packages (from datasets->openprompt) (2.24.0)\n",
      "Requirement already satisfied: aiohttp in /ext3/conda/bootcamp/lib/python3.8/site-packages (from datasets->openprompt) (3.7.4.post0)\n",
      "Requirement already satisfied: huggingface-hub<1.0.0,>=0.1.0 in /ext3/conda/bootcamp/lib/python3.8/site-packages (from datasets->openprompt) (0.5.1)\n",
      "Requirement already satisfied: multiprocess in /ext3/conda/bootcamp/lib/python3.8/site-packages (from datasets->openprompt) (0.70.12.2)\n",
      "Requirement already satisfied: joblib in /ext3/conda/bootcamp/lib/python3.8/site-packages (from nltk->openprompt) (1.0.1)\n",
      "Requirement already satisfied: click in /ext3/conda/bootcamp/lib/python3.8/site-packages (from nltk->openprompt) (7.1.2)\n",
      "Requirement already satisfied: regex in /ext3/conda/bootcamp/lib/python3.8/site-packages (from nltk->openprompt) (2021.4.4)\n",
      "Requirement already satisfied: sacremoses in /ext3/conda/bootcamp/lib/python3.8/site-packages (from transformers>=4.10.0->openprompt) (0.0.35)\n",
      "Requirement already satisfied: tokenizers!=0.11.3,<0.13,>=0.11.1 in /ext3/conda/bootcamp/lib/python3.8/site-packages (from transformers>=4.10.0->openprompt) (0.11.6)\n",
      "Requirement already satisfied: filelock in /share/apps/python/3.8.6/intel/lib/python3.8/site-packages (from transformers>=4.10.0->openprompt) (3.0.12)\n",
      "Requirement already satisfied: pyyaml>=5.1 in /share/apps/python/3.8.6/intel/lib/python3.8/site-packages (from transformers>=4.10.0->openprompt) (5.3.1)\n",
      "Requirement already satisfied: pyparsing>=2.0.2 in /share/apps/python/3.8.6/intel/lib/python3.8/site-packages (from packaging->datasets->openprompt) (2.4.7)\n",
      "Requirement already satisfied: urllib3>=1.25.10 in /share/apps/python/3.8.6/intel/lib/python3.8/site-packages (from responses<0.19->datasets->openprompt) (1.25.10)\n",
      "Requirement already satisfied: pytz>=2017.2 in /share/apps/python/3.8.6/intel/lib/python3.8/site-packages (from pandas->datasets->openprompt) (2020.1)\n",
      "Requirement already satisfied: python-dateutil>=2.7.3 in /share/apps/python/3.8.6/intel/lib/python3.8/site-packages (from pandas->datasets->openprompt) (2.8.1)\n",
      "Requirement already satisfied: idna<3,>=2.5 in /share/apps/python/3.8.6/intel/lib/python3.8/site-packages (from requests>=2.19.0->datasets->openprompt) (2.10)\n",
      "Requirement already satisfied: certifi>=2017.4.17 in /share/apps/python/3.8.6/intel/lib/python3.8/site-packages (from requests>=2.19.0->datasets->openprompt) (2020.6.20)\n",
      "Requirement already satisfied: chardet<4,>=3.0.2 in /share/apps/python/3.8.6/intel/lib/python3.8/site-packages (from requests>=2.19.0->datasets->openprompt) (3.0.4)\n",
      "Requirement already satisfied: async-timeout<4.0,>=3.0 in /ext3/conda/bootcamp/lib/python3.8/site-packages (from aiohttp->datasets->openprompt) (3.0.1)\n",
      "Requirement already satisfied: multidict<7.0,>=4.5 in /ext3/conda/bootcamp/lib/python3.8/site-packages (from aiohttp->datasets->openprompt) (5.1.0)\n",
      "Requirement already satisfied: attrs>=17.3.0 in /share/apps/python/3.8.6/intel/lib/python3.8/site-packages (from aiohttp->datasets->openprompt) (20.2.0)\n",
      "Requirement already satisfied: typing-extensions>=3.6.5 in /home/zh2095/.local/lib/python3.8/site-packages (from aiohttp->datasets->openprompt) (3.10.0.2)\n",
      "Requirement already satisfied: yarl<2.0,>=1.0 in /ext3/conda/bootcamp/lib/python3.8/site-packages (from aiohttp->datasets->openprompt) (1.5.1)\n",
      "\u001b[33mWARNING: You are using pip version 20.2.3; however, version 22.0.4 is available.\n",
      "You should consider upgrading via the '/ext3/conda/bootcamp/bin/python3.8 -m pip install --upgrade pip' command.\u001b[0m\n"
     ]
    }
   ],
   "source": [
    "!pip install openprompt"
   ]
  },
  {
   "cell_type": "markdown",
   "metadata": {},
   "source": [
    "# Import packages"
   ]
  },
  {
   "cell_type": "code",
   "execution_count": 24,
   "metadata": {},
   "outputs": [],
   "source": [
    "import torch\n",
    "import pandas as pd\n",
    "import numpy as np\n",
    "from sklearn.metrics import f1_score, accuracy_score\n",
    "\n",
    "from transformers import  AdamW, get_linear_schedule_with_warmup\n",
    "from transformers import BertTokenizer, BertModel, AutoTokenizer\n",
    "from transformers import AutoModelForSequenceClassification, TrainingArguments, Trainer,BertForSequenceClassification\n",
    "from datasets import load_dataset, ClassLabel, Value, load_metric\n",
    "\n",
    "from openprompt import PromptForClassification, PromptDataLoader\n",
    "from openprompt.data_utils import InputExample\n",
    "from openprompt.plms import load_plm\n",
    "from openprompt.prompts import ManualTemplate, ManualVerbalizer"
   ]
  },
  {
   "cell_type": "markdown",
   "metadata": {},
   "source": [
    "# Preprocess to obtain the prompt ready dataset"
   ]
  },
  {
   "cell_type": "code",
   "execution_count": 3,
   "metadata": {},
   "outputs": [
    {
     "name": "stderr",
     "output_type": "stream",
     "text": [
      "Reusing dataset amazon_us_reviews (/home/zh2095/.cache/huggingface/datasets/amazon_us_reviews/Video_v1_00/0.1.0/17b2481be59723469538adeb8fd0a68b0ba363bbbdd71090e72c325ee6c7e563)\n"
     ]
    }
   ],
   "source": [
    "# sampling the dataset for fine-tuning\n",
    "train = load_dataset('amazon_us_reviews', 'Video_v1_00', split='train[:60%]') "
   ]
  },
  {
   "cell_type": "code",
   "execution_count": 4,
   "metadata": {},
   "outputs": [],
   "source": [
    "# remove unuseful columns\n",
    "train = train.remove_columns(['customer_id','product_id','marketplace', 'review_id', 'product_parent', 'product_title', 'product_category', \\\n",
    "                      'helpful_votes', 'total_votes', 'vine', 'verified_purchase', 'review_date', 'review_headline'])"
   ]
  },
  {
   "cell_type": "code",
   "execution_count": 5,
   "metadata": {},
   "outputs": [],
   "source": [
    "# rename columns\n",
    "train = train.rename_column(\"star_rating\", \"labels\")\n",
    "train = train.rename_column(\"review_body\", \"text\")"
   ]
  },
  {
   "cell_type": "code",
   "execution_count": 6,
   "metadata": {},
   "outputs": [
    {
     "name": "stderr",
     "output_type": "stream",
     "text": [
      "Loading cached processed dataset at /home/zh2095/.cache/huggingface/datasets/amazon_us_reviews/Video_v1_00/0.1.0/17b2481be59723469538adeb8fd0a68b0ba363bbbdd71090e72c325ee6c7e563/cache-0d7a52179b50824f.arrow\n"
     ]
    }
   ],
   "source": [
    "# convert star rating that ranging from 1-5 to labels that ranging from 0-4\n",
    "def to_label(x):\n",
    "    x['labels']  = x['labels'] - 1\n",
    "    return x\n",
    "\n",
    "train = train.map(to_label)"
   ]
  },
  {
   "cell_type": "code",
   "execution_count": 7,
   "metadata": {},
   "outputs": [],
   "source": [
    "# create dataset for prompting\n",
    "dataset = []\n",
    "for i in range(len(train)):\n",
    "    original_data = train[i]\n",
    "    data = InputExample(label = original_data['labels'],\n",
    "                        text_a = original_data['text'])\n",
    "    dataset.append(data)"
   ]
  },
  {
   "cell_type": "code",
   "execution_count": 8,
   "metadata": {},
   "outputs": [
    {
     "data": {
      "text/plain": [
       "{\n",
       "  \"guid\": null,\n",
       "  \"label\": 4,\n",
       "  \"meta\": {},\n",
       "  \"text_a\": \"Fast shipping. Pleasure to deal with. Would recommend. A+++. Thanks!\",\n",
       "  \"text_b\": \"\",\n",
       "  \"tgt_text\": null\n",
       "}"
      ]
     },
     "execution_count": 8,
     "metadata": {},
     "output_type": "execute_result"
    }
   ],
   "source": [
    "dataset[0]"
   ]
  },
  {
   "cell_type": "markdown",
   "metadata": {},
   "source": [
    "# Prompt Learning"
   ]
  },
  {
   "cell_type": "markdown",
   "metadata": {},
   "source": [
    "### 1. Define the task"
   ]
  },
  {
   "cell_type": "code",
   "execution_count": 9,
   "metadata": {},
   "outputs": [],
   "source": [
    "classes = [0, 1, 2, 3, 4]\n",
    "dataset = dataset"
   ]
  },
  {
   "cell_type": "markdown",
   "metadata": {},
   "source": [
    "### 2. Obtain a PLM"
   ]
  },
  {
   "cell_type": "code",
   "execution_count": 10,
   "metadata": {},
   "outputs": [
    {
     "name": "stderr",
     "output_type": "stream",
     "text": [
      "Some weights of the model checkpoint at bert-base-cased were not used when initializing BertForMaskedLM: ['cls.seq_relationship.weight', 'cls.seq_relationship.bias']\n",
      "- This IS expected if you are initializing BertForMaskedLM from the checkpoint of a model trained on another task or with another architecture (e.g. initializing a BertForSequenceClassification model from a BertForPreTraining model).\n",
      "- This IS NOT expected if you are initializing BertForMaskedLM from the checkpoint of a model that you expect to be exactly identical (initializing a BertForSequenceClassification model from a BertForSequenceClassification model).\n"
     ]
    }
   ],
   "source": [
    "plm, tokenizer, model_config, WrapperClass = load_plm(\"bert\", \"bert-base-cased\")"
   ]
  },
  {
   "cell_type": "markdown",
   "metadata": {},
   "source": [
    "### 3. Define a Template"
   ]
  },
  {
   "cell_type": "code",
   "execution_count": 11,
   "metadata": {},
   "outputs": [],
   "source": [
    "promptTemplate = ManualTemplate(\n",
    "    text = '{\"placeholder\":\"text_a\"} Overall, it was a {\"mask\"} movie',\n",
    "    tokenizer = tokenizer,\n",
    ")"
   ]
  },
  {
   "cell_type": "markdown",
   "metadata": {},
   "source": [
    "### 4. Define a Verbalizer"
   ]
  },
  {
   "cell_type": "code",
   "execution_count": 12,
   "metadata": {},
   "outputs": [],
   "source": [
    "promptVerbalizer = ManualVerbalizer(\n",
    "    classes = classes,\n",
    "    label_words = {\n",
    "        0: [\"awful\"],\n",
    "        1: [\"bad\"],\n",
    "        2: [\"fair\"],\n",
    "        3: [\"good\"],\n",
    "        4: [\"wonderful\"]\n",
    "    },\n",
    "    tokenizer = tokenizer,\n",
    ")"
   ]
  },
  {
   "cell_type": "markdown",
   "metadata": {},
   "source": [
    "### 5. Construct a PromptModel"
   ]
  },
  {
   "cell_type": "code",
   "execution_count": 13,
   "metadata": {},
   "outputs": [],
   "source": [
    "use_cuda = True\n",
    "promptModel = PromptForClassification(\n",
    "    template = promptTemplate,\n",
    "    plm = plm,\n",
    "    verbalizer = promptVerbalizer,\n",
    ")\n",
    "\n",
    "if use_cuda:\n",
    "    promptModel=  promptModel.cuda()"
   ]
  },
  {
   "cell_type": "markdown",
   "metadata": {},
   "source": [
    "### 6. Define a DataLoader"
   ]
  },
  {
   "cell_type": "code",
   "execution_count": 14,
   "metadata": {},
   "outputs": [
    {
     "name": "stderr",
     "output_type": "stream",
     "text": [
      "tokenizing: 0it [00:00, ?it/s]Token indices sequence length is longer than the specified maximum sequence length for this model (755 > 512). Running this sequence through the model will result in indexing errors\n",
      "tokenizing: 228362it [07:59, 476.42it/s]\n"
     ]
    }
   ],
   "source": [
    "# keep the same configuration as the fine-tune one\n",
    "data_loader = PromptDataLoader(\n",
    "    dataset = dataset,\n",
    "    tokenizer = tokenizer,\n",
    "    template = promptTemplate,\n",
    "    tokenizer_wrapper_class=WrapperClass,\n",
    "    max_seq_length=32, \n",
    "    batch_size=64,\n",
    "    truncate_method=\"tail\")\n"
   ]
  },
  {
   "cell_type": "markdown",
   "metadata": {},
   "source": [
    "### 7. Train the PromptModel"
   ]
  },
  {
   "cell_type": "code",
   "execution_count": 15,
   "metadata": {},
   "outputs": [
    {
     "name": "stderr",
     "output_type": "stream",
     "text": [
      "/ext3/conda/bootcamp/lib/python3.8/site-packages/transformers/optimization.py:306: FutureWarning: This implementation of AdamW is deprecated and will be removed in a future version. Use the PyTorch implementation torch.optim.AdamW instead, or set `no_deprecation_warning=True` to disable this warning\n",
      "  warnings.warn(\n"
     ]
    },
    {
     "name": "stdout",
     "output_type": "stream",
     "text": [
      "Epoch 0, average loss: 2.7009607553482056\n",
      "Epoch 0, average loss: 0.8218350152293603\n",
      "Epoch 0, average loss: 0.9048118121497757\n",
      "Epoch 0, average loss: 0.9386626807035882\n",
      "Epoch 1, average loss: 0.7404760122299194\n",
      "Epoch 1, average loss: 0.7070092210274732\n",
      "Epoch 1, average loss: 0.768560427662495\n",
      "Epoch 1, average loss: 0.7898571948501605\n",
      "Epoch 2, average loss: 0.562580019235611\n",
      "Epoch 2, average loss: 0.5261934837419354\n",
      "Epoch 2, average loss: 0.5469722600279749\n",
      "Epoch 2, average loss: 0.5600425761632328\n",
      "Epoch 3, average loss: 0.4192337393760681\n",
      "Epoch 3, average loss: 0.37574160427687886\n",
      "Epoch 3, average loss: 0.38805878180991876\n",
      "Epoch 3, average loss: 0.40077389897822063\n",
      "Epoch 4, average loss: 0.3250827193260193\n",
      "Epoch 4, average loss: 0.27596486138250537\n",
      "Epoch 4, average loss: 0.28203774682738325\n",
      "Epoch 4, average loss: 0.2929028686456169\n",
      "Epoch 5, average loss: 0.24261796474456787\n",
      "Epoch 5, average loss: 0.2052813686668397\n",
      "Epoch 5, average loss: 0.20597376037281115\n",
      "Epoch 5, average loss: 0.21313805694503835\n",
      "Epoch 6, average loss: 0.2922038659453392\n",
      "Epoch 6, average loss: 0.16047636652644165\n",
      "Epoch 6, average loss: 0.16011560099296174\n",
      "Epoch 6, average loss: 0.16460203390343886\n",
      "Epoch 7, average loss: 0.23790110647678375\n",
      "Epoch 7, average loss: 0.13611328545465187\n",
      "Epoch 7, average loss: 0.13182793785427158\n",
      "Epoch 7, average loss: 0.13673120533515742\n",
      "Epoch 8, average loss: 0.17470898106694221\n",
      "Epoch 8, average loss: 0.11784325248446546\n",
      "Epoch 8, average loss: 0.11575298560466933\n",
      "Epoch 8, average loss: 0.1196158143876618\n",
      "Epoch 9, average loss: 0.1848977617919445\n",
      "Epoch 9, average loss: 0.10964957245777987\n",
      "Epoch 9, average loss: 0.10538496096668715\n",
      "Epoch 9, average loss: 0.1071890038234938\n"
     ]
    }
   ],
   "source": [
    "loss_func = torch.nn.CrossEntropyLoss()\n",
    "no_decay = ['bias', 'LayerNorm.weight']\n",
    "\n",
    "# it's always good practice to set no decay to biase and LayerNorm parameters\n",
    "optimizer_grouped_parameters = [\n",
    "    {'params': [p for n, p in promptModel.named_parameters() if not any(nd in n for nd in no_decay)], 'weight_decay': 0.01},\n",
    "    {'params': [p for n, p in promptModel.named_parameters() if any(nd in n for nd in no_decay)], 'weight_decay': 0.0}\n",
    "]\n",
    "\n",
    "optimizer = AdamW(optimizer_grouped_parameters, lr=5e-5) \n",
    "\n",
    "for epoch in range(10):\n",
    "    tot_loss = 0\n",
    "    for step, inputs in enumerate(data_loader):\n",
    "        if use_cuda:\n",
    "            inputs = inputs.cuda()\n",
    "        logits = promptModel(inputs)\n",
    "        labels = inputs['label']\n",
    "        loss = loss_func(logits, labels)\n",
    "        loss.backward()\n",
    "        tot_loss += loss.item()\n",
    "        optimizer.step()\n",
    "        optimizer.zero_grad()\n",
    "        if step %1000 ==1:\n",
    "            print(\"Epoch {}, average loss: {}\".format(epoch, tot_loss/(step+1)), flush=True)\n"
   ]
  },
  {
   "cell_type": "markdown",
   "metadata": {},
   "source": [
    "### 8. Evaluation and Prediction"
   ]
  },
  {
   "cell_type": "code",
   "execution_count": 16,
   "metadata": {},
   "outputs": [
    {
     "name": "stderr",
     "output_type": "stream",
     "text": [
      "Reusing dataset amazon_us_reviews (/home/zh2095/.cache/huggingface/datasets/amazon_us_reviews/Video_v1_00/0.1.0/17b2481be59723469538adeb8fd0a68b0ba363bbbdd71090e72c325ee6c7e563)\n",
      "Loading cached processed dataset at /home/zh2095/.cache/huggingface/datasets/amazon_us_reviews/Video_v1_00/0.1.0/17b2481be59723469538adeb8fd0a68b0ba363bbbdd71090e72c325ee6c7e563/cache-35bc8af46f828eb2.arrow\n"
     ]
    },
    {
     "data": {
      "text/plain": [
       "{\n",
       "  \"guid\": null,\n",
       "  \"label\": 4,\n",
       "  \"meta\": {},\n",
       "  \"text_a\": \"Fast shipping. Pleasure to deal with. Would recommend. A+++. Thanks!\",\n",
       "  \"text_b\": \"\",\n",
       "  \"tgt_text\": null\n",
       "}"
      ]
     },
     "execution_count": 16,
     "metadata": {},
     "output_type": "execute_result"
    }
   ],
   "source": [
    "# load the entire dataset\n",
    "all_data = load_dataset('amazon_us_reviews', 'Video_v1_00', split='train')\n",
    "\n",
    "# remove unuseful columns\n",
    "all_data = all_data.remove_columns(['customer_id','product_id','marketplace', 'review_id', 'product_parent', 'product_title', 'product_category', \\\n",
    "                      'helpful_votes', 'total_votes', 'vine', 'verified_purchase', 'review_date', 'review_headline'])\n",
    "\n",
    "# rename columns\n",
    "all_data = all_data.rename_column(\"star_rating\", \"labels\")\n",
    "all_data = all_data.rename_column(\"review_body\", \"text\")\n",
    "\n",
    "# convert star rating that ranging from 1-5 to labels that ranging from 0-4\n",
    "all_data = all_data.map(to_label)\n",
    "\n",
    "# create dataset for prompting\n",
    "all_dataset = []\n",
    "for i in range(len(all_data)):\n",
    "    original_data = all_data[i]\n",
    "    data = InputExample(label = original_data['labels'],\n",
    "                        text_a = original_data['text'])\n",
    "    all_dataset.append(data)\n",
    "\n",
    "all_dataset[0]"
   ]
  },
  {
   "cell_type": "code",
   "execution_count": 17,
   "metadata": {},
   "outputs": [
    {
     "name": "stderr",
     "output_type": "stream",
     "text": [
      "tokenizing: 380604it [12:40, 500.45it/s]\n"
     ]
    }
   ],
   "source": [
    "# create validation dataloader\n",
    "validation_dataloader = PromptDataLoader(\n",
    "    dataset = all_dataset,\n",
    "    tokenizer = tokenizer,\n",
    "    template = promptTemplate,\n",
    "    tokenizer_wrapper_class=WrapperClass,\n",
    "    max_seq_length=32, \n",
    "    batch_size=64,\n",
    "    truncate_method=\"tail\")"
   ]
  },
  {
   "cell_type": "code",
   "execution_count": 18,
   "metadata": {},
   "outputs": [],
   "source": [
    "# get predictions with the trained prompt model\n",
    "allpreds = []\n",
    "alllabels = []\n",
    "\n",
    "for step, inputs in enumerate(validation_dataloader):\n",
    "    if use_cuda:\n",
    "        inputs = inputs.cuda()\n",
    "    logits = promptModel(inputs)\n",
    "    labels = inputs['label']\n",
    "    alllabels.extend(labels.cpu().tolist())\n",
    "    allpreds.extend(torch.argmax(logits, dim=-1).cpu().tolist())"
   ]
  },
  {
   "cell_type": "code",
   "execution_count": 25,
   "metadata": {},
   "outputs": [
    {
     "name": "stdout",
     "output_type": "stream",
     "text": [
      "Accuracy: 0.7600655799728852\n",
      "F1 score: 0.7641498343395504\n"
     ]
    }
   ],
   "source": [
    "# evaluate with accuracy and f1\n",
    "acc = accuracy_score(alllabels, allpreds)\n",
    "f1 = f1_score(alllabels, allpreds, average='weighted')\n",
    "\n",
    "print(f'Accuracy: {acc}')\n",
    "print(f'F1 score: {f1}')"
   ]
  },
  {
   "cell_type": "markdown",
   "metadata": {},
   "source": [
    "# Save the dataset expanded with prompt based sentiment rating"
   ]
  },
  {
   "cell_type": "code",
   "execution_count": 20,
   "metadata": {},
   "outputs": [
    {
     "name": "stderr",
     "output_type": "stream",
     "text": [
      "Reusing dataset amazon_us_reviews (/home/zh2095/.cache/huggingface/datasets/amazon_us_reviews/Video_v1_00/0.1.0/17b2481be59723469538adeb8fd0a68b0ba363bbbdd71090e72c325ee6c7e563)\n"
     ]
    }
   ],
   "source": [
    "# expand the original dataset with the predicted rating\n",
    "data = load_dataset('amazon_us_reviews', 'Video_v1_00', split='train')\n",
    "data = data.remove_columns(['marketplace', 'review_id', 'product_parent', 'product_title', 'product_category', \\\n",
    "                      'helpful_votes', 'total_votes', 'vine', 'verified_purchase', 'review_date'])\n",
    "\n",
    "data = data[:]\n",
    "allpreds = np.array(allpreds)\n",
    "data['senti_rating_prompt'] = allpreds + 1"
   ]
  },
  {
   "cell_type": "code",
   "execution_count": 21,
   "metadata": {},
   "outputs": [
    {
     "data": {
      "text/html": [
       "<div>\n",
       "<style scoped>\n",
       "    .dataframe tbody tr th:only-of-type {\n",
       "        vertical-align: middle;\n",
       "    }\n",
       "\n",
       "    .dataframe tbody tr th {\n",
       "        vertical-align: top;\n",
       "    }\n",
       "\n",
       "    .dataframe thead th {\n",
       "        text-align: right;\n",
       "    }\n",
       "</style>\n",
       "<table border=\"1\" class=\"dataframe\">\n",
       "  <thead>\n",
       "    <tr style=\"text-align: right;\">\n",
       "      <th></th>\n",
       "      <th>user</th>\n",
       "      <th>item</th>\n",
       "      <th>rating</th>\n",
       "      <th>senti_rating_prompt</th>\n",
       "    </tr>\n",
       "  </thead>\n",
       "  <tbody>\n",
       "    <tr>\n",
       "      <th>0</th>\n",
       "      <td>49033728</td>\n",
       "      <td>6302503213</td>\n",
       "      <td>5</td>\n",
       "      <td>5</td>\n",
       "    </tr>\n",
       "    <tr>\n",
       "      <th>1</th>\n",
       "      <td>17857748</td>\n",
       "      <td>B000059PET</td>\n",
       "      <td>5</td>\n",
       "      <td>5</td>\n",
       "    </tr>\n",
       "    <tr>\n",
       "      <th>2</th>\n",
       "      <td>25551507</td>\n",
       "      <td>0788812807</td>\n",
       "      <td>4</td>\n",
       "      <td>5</td>\n",
       "    </tr>\n",
       "    <tr>\n",
       "      <th>3</th>\n",
       "      <td>21025041</td>\n",
       "      <td>6302509939</td>\n",
       "      <td>5</td>\n",
       "      <td>5</td>\n",
       "    </tr>\n",
       "    <tr>\n",
       "      <th>4</th>\n",
       "      <td>40943563</td>\n",
       "      <td>B00JENS2BI</td>\n",
       "      <td>3</td>\n",
       "      <td>3</td>\n",
       "    </tr>\n",
       "  </tbody>\n",
       "</table>\n",
       "</div>"
      ],
      "text/plain": [
       "       user        item  rating  senti_rating_prompt\n",
       "0  49033728  6302503213       5                    5\n",
       "1  17857748  B000059PET       5                    5\n",
       "2  25551507  0788812807       4                    5\n",
       "3  21025041  6302509939       5                    5\n",
       "4  40943563  B00JENS2BI       3                    3"
      ]
     },
     "execution_count": 21,
     "metadata": {},
     "output_type": "execute_result"
    }
   ],
   "source": [
    "df = pd.DataFrame.from_dict(data)\n",
    "\n",
    "# extract variables needed for CF recommender\n",
    "df= df[['customer_id', 'product_id', 'star_rating', 'senti_rating_prompt']]\n",
    "df.rename(columns = {'customer_id' : 'user', 'product_id' : 'item', 'star_rating' : 'rating'}, inplace = True)\n",
    "df.head()"
   ]
  },
  {
   "cell_type": "code",
   "execution_count": 22,
   "metadata": {},
   "outputs": [],
   "source": [
    "# save as csv files\n",
    "df.to_csv('../data/amazon_video_prompt.csv')"
   ]
  }
 ],
 "metadata": {
  "kernelspec": {
   "display_name": "my_env",
   "language": "python",
   "name": "my_env"
  },
  "language_info": {
   "codemirror_mode": {
    "name": "ipython",
    "version": 3
   },
   "file_extension": ".py",
   "mimetype": "text/x-python",
   "name": "python",
   "nbconvert_exporter": "python",
   "pygments_lexer": "ipython3",
   "version": "3.8.10"
  }
 },
 "nbformat": 4,
 "nbformat_minor": 4
}
