{
 "cells": [
  {
   "cell_type": "code",
   "execution_count": 1,
   "metadata": {},
   "outputs": [
    {
     "name": "stdout",
     "output_type": "stream",
     "text": [
      "Defaulting to user installation because normal site-packages is not writeable\n",
      "Requirement already satisfied: openprompt in /home/zh2095/.local/lib/python3.8/site-packages (1.0.0)\n",
      "Requirement already satisfied: scipy in /ext3/conda/bootcamp/lib/python3.8/site-packages (from openprompt) (1.6.3)\n",
      "Requirement already satisfied: sentencepiece==0.1.96 in /home/zh2095/.local/lib/python3.8/site-packages (from openprompt) (0.1.96)\n",
      "Requirement already satisfied: dill in /ext3/conda/bootcamp/lib/python3.8/site-packages (from openprompt) (0.3.4)\n",
      "Requirement already satisfied: nltk in /ext3/conda/bootcamp/lib/python3.8/site-packages (from openprompt) (3.6.2)\n",
      "Requirement already satisfied: datasets in /ext3/conda/bootcamp/lib/python3.8/site-packages (from openprompt) (2.0.0)\n",
      "Requirement already satisfied: pyarrow in /home/zh2095/.local/lib/python3.8/site-packages (from openprompt) (7.0.0)\n",
      "Requirement already satisfied: yacs in /ext3/conda/bootcamp/lib/python3.8/site-packages (from openprompt) (0.1.8)\n",
      "Requirement already satisfied: transformers>=4.10.0 in /ext3/conda/bootcamp/lib/python3.8/site-packages (from openprompt) (4.18.0)\n",
      "Requirement already satisfied: rouge==1.0.0 in /home/zh2095/.local/lib/python3.8/site-packages (from openprompt) (1.0.0)\n",
      "Requirement already satisfied: tensorboardX in /home/zh2095/.local/lib/python3.8/site-packages (from openprompt) (2.5)\n",
      "Requirement already satisfied: tqdm>=4.62.2 in /ext3/conda/bootcamp/lib/python3.8/site-packages (from openprompt) (4.64.0)\n",
      "Requirement already satisfied: numpy<1.23.0,>=1.16.5 in /home/zh2095/.local/lib/python3.8/site-packages (from scipy->openprompt) (1.21.3)\n",
      "Requirement already satisfied: click in /ext3/conda/bootcamp/lib/python3.8/site-packages (from nltk->openprompt) (7.1.2)\n",
      "Requirement already satisfied: regex in /ext3/conda/bootcamp/lib/python3.8/site-packages (from nltk->openprompt) (2021.4.4)\n",
      "Requirement already satisfied: joblib in /ext3/conda/bootcamp/lib/python3.8/site-packages (from nltk->openprompt) (1.0.1)\n",
      "Requirement already satisfied: packaging in /share/apps/python/3.8.6/intel/lib/python3.8/site-packages (from datasets->openprompt) (20.4)\n",
      "Requirement already satisfied: fsspec[http]>=2021.05.0 in /home/zh2095/.local/lib/python3.8/site-packages (from datasets->openprompt) (2022.3.0)\n",
      "Requirement already satisfied: responses<0.19 in /ext3/conda/bootcamp/lib/python3.8/site-packages (from datasets->openprompt) (0.18.0)\n",
      "Requirement already satisfied: huggingface-hub<1.0.0,>=0.1.0 in /ext3/conda/bootcamp/lib/python3.8/site-packages (from datasets->openprompt) (0.5.1)\n",
      "Requirement already satisfied: pandas in /share/apps/python/3.8.6/intel/lib/python3.8/site-packages (from datasets->openprompt) (1.1.3)\n",
      "Requirement already satisfied: requests>=2.19.0 in /share/apps/python/3.8.6/intel/lib/python3.8/site-packages (from datasets->openprompt) (2.24.0)\n",
      "Requirement already satisfied: aiohttp in /ext3/conda/bootcamp/lib/python3.8/site-packages (from datasets->openprompt) (3.7.4.post0)\n",
      "Requirement already satisfied: xxhash in /ext3/conda/bootcamp/lib/python3.8/site-packages (from datasets->openprompt) (3.0.0)\n",
      "Requirement already satisfied: multiprocess in /ext3/conda/bootcamp/lib/python3.8/site-packages (from datasets->openprompt) (0.70.12.2)\n",
      "Requirement already satisfied: PyYAML in /share/apps/python/3.8.6/intel/lib/python3.8/site-packages (from yacs->openprompt) (5.3.1)\n",
      "Requirement already satisfied: filelock in /share/apps/python/3.8.6/intel/lib/python3.8/site-packages (from transformers>=4.10.0->openprompt) (3.0.12)\n",
      "Requirement already satisfied: sacremoses in /ext3/conda/bootcamp/lib/python3.8/site-packages (from transformers>=4.10.0->openprompt) (0.0.35)\n",
      "Requirement already satisfied: tokenizers!=0.11.3,<0.13,>=0.11.1 in /ext3/conda/bootcamp/lib/python3.8/site-packages (from transformers>=4.10.0->openprompt) (0.11.6)\n",
      "Requirement already satisfied: six in /share/apps/python/3.8.6/intel/lib/python3.8/site-packages (from rouge==1.0.0->openprompt) (1.15.0)\n",
      "Requirement already satisfied: protobuf>=3.8.0 in /home/zh2095/.local/lib/python3.8/site-packages (from tensorboardX->openprompt) (3.19.0)\n",
      "Requirement already satisfied: pyparsing>=2.0.2 in /share/apps/python/3.8.6/intel/lib/python3.8/site-packages (from packaging->datasets->openprompt) (2.4.7)\n",
      "Requirement already satisfied: urllib3>=1.25.10 in /share/apps/python/3.8.6/intel/lib/python3.8/site-packages (from responses<0.19->datasets->openprompt) (1.25.10)\n",
      "Requirement already satisfied: typing-extensions>=3.7.4.3 in /home/zh2095/.local/lib/python3.8/site-packages (from huggingface-hub<1.0.0,>=0.1.0->datasets->openprompt) (3.10.0.2)\n",
      "Requirement already satisfied: python-dateutil>=2.7.3 in /share/apps/python/3.8.6/intel/lib/python3.8/site-packages (from pandas->datasets->openprompt) (2.8.1)\n",
      "Requirement already satisfied: pytz>=2017.2 in /share/apps/python/3.8.6/intel/lib/python3.8/site-packages (from pandas->datasets->openprompt) (2020.1)\n",
      "Requirement already satisfied: certifi>=2017.4.17 in /share/apps/python/3.8.6/intel/lib/python3.8/site-packages (from requests>=2.19.0->datasets->openprompt) (2020.6.20)\n",
      "Requirement already satisfied: idna<3,>=2.5 in /share/apps/python/3.8.6/intel/lib/python3.8/site-packages (from requests>=2.19.0->datasets->openprompt) (2.10)\n",
      "Requirement already satisfied: chardet<4,>=3.0.2 in /share/apps/python/3.8.6/intel/lib/python3.8/site-packages (from requests>=2.19.0->datasets->openprompt) (3.0.4)\n",
      "Requirement already satisfied: attrs>=17.3.0 in /share/apps/python/3.8.6/intel/lib/python3.8/site-packages (from aiohttp->datasets->openprompt) (20.2.0)\n",
      "Requirement already satisfied: multidict<7.0,>=4.5 in /ext3/conda/bootcamp/lib/python3.8/site-packages (from aiohttp->datasets->openprompt) (5.1.0)\n",
      "Requirement already satisfied: async-timeout<4.0,>=3.0 in /ext3/conda/bootcamp/lib/python3.8/site-packages (from aiohttp->datasets->openprompt) (3.0.1)\n",
      "Requirement already satisfied: yarl<2.0,>=1.0 in /ext3/conda/bootcamp/lib/python3.8/site-packages (from aiohttp->datasets->openprompt) (1.5.1)\n",
      "\u001b[33mWARNING: You are using pip version 20.2.3; however, version 22.0.4 is available.\n",
      "You should consider upgrading via the '/ext3/conda/bootcamp/bin/python3.8 -m pip install --upgrade pip' command.\u001b[0m\n"
     ]
    }
   ],
   "source": [
    "!pip install openprompt"
   ]
  },
  {
   "cell_type": "markdown",
   "metadata": {},
   "source": [
    "# Import packages"
   ]
  },
  {
   "cell_type": "code",
   "execution_count": 2,
   "metadata": {},
   "outputs": [],
   "source": [
    "import torch\n",
    "import pandas as pd\n",
    "import numpy as np\n",
    "from sklearn.metrics import f1_score, accuracy_score\n",
    "\n",
    "from transformers import  AdamW, get_linear_schedule_with_warmup\n",
    "from transformers import RobertaTokenizer, AutoTokenizer\n",
    "from transformers import AutoModelForSequenceClassification, TrainingArguments, Trainer, RobertaForSequenceClassification\n",
    "from datasets import load_dataset, ClassLabel, Value, load_metric\n",
    "\n",
    "from openprompt import PromptForClassification, PromptDataLoader\n",
    "from openprompt.data_utils import InputExample\n",
    "from openprompt.plms import load_plm\n",
    "from openprompt.prompts import ManualTemplate, ManualVerbalizer"
   ]
  },
  {
   "cell_type": "markdown",
   "metadata": {},
   "source": [
    "# Preprocess to obtain the prompt ready dataset"
   ]
  },
  {
   "cell_type": "code",
   "execution_count": 3,
   "metadata": {},
   "outputs": [
    {
     "name": "stderr",
     "output_type": "stream",
     "text": [
      "Reusing dataset amazon_us_reviews (/home/zh2095/.cache/huggingface/datasets/amazon_us_reviews/Video_v1_00/0.1.0/17b2481be59723469538adeb8fd0a68b0ba363bbbdd71090e72c325ee6c7e563)\n"
     ]
    }
   ],
   "source": [
    "# sampling the dataset for fine-tuning\n",
    "train = load_dataset('amazon_us_reviews', 'Video_v1_00', split='train[:60%]') "
   ]
  },
  {
   "cell_type": "code",
   "execution_count": 4,
   "metadata": {},
   "outputs": [],
   "source": [
    "# remove unuseful columns\n",
    "train = train.remove_columns(['customer_id','product_id','marketplace', 'review_id', 'product_parent', 'product_title', 'product_category', \\\n",
    "                      'helpful_votes', 'total_votes', 'vine', 'verified_purchase', 'review_date', 'review_headline'])"
   ]
  },
  {
   "cell_type": "code",
   "execution_count": 5,
   "metadata": {},
   "outputs": [],
   "source": [
    "# rename columns\n",
    "train = train.rename_column(\"star_rating\", \"labels\")\n",
    "train = train.rename_column(\"review_body\", \"text\")"
   ]
  },
  {
   "cell_type": "code",
   "execution_count": 6,
   "metadata": {},
   "outputs": [
    {
     "name": "stderr",
     "output_type": "stream",
     "text": [
      "Loading cached processed dataset at /home/zh2095/.cache/huggingface/datasets/amazon_us_reviews/Video_v1_00/0.1.0/17b2481be59723469538adeb8fd0a68b0ba363bbbdd71090e72c325ee6c7e563/cache-0d7a52179b50824f.arrow\n"
     ]
    }
   ],
   "source": [
    "# convert star rating that ranging from 1-5 to labels that ranging from 0-4\n",
    "def to_label(x):\n",
    "    x['labels']  = x['labels'] - 1\n",
    "    return x\n",
    "\n",
    "train = train.map(to_label)"
   ]
  },
  {
   "cell_type": "code",
   "execution_count": 7,
   "metadata": {},
   "outputs": [],
   "source": [
    "# create dataset for prompting\n",
    "dataset = []\n",
    "for i in range(len(train)):\n",
    "    original_data = train[i]\n",
    "    data = InputExample(label = original_data['labels'],\n",
    "                        text_a = original_data['text'])\n",
    "    dataset.append(data)"
   ]
  },
  {
   "cell_type": "code",
   "execution_count": 8,
   "metadata": {},
   "outputs": [
    {
     "data": {
      "text/plain": [
       "{\n",
       "  \"guid\": null,\n",
       "  \"label\": 4,\n",
       "  \"meta\": {},\n",
       "  \"text_a\": \"Fast shipping. Pleasure to deal with. Would recommend. A+++. Thanks!\",\n",
       "  \"text_b\": \"\",\n",
       "  \"tgt_text\": null\n",
       "}"
      ]
     },
     "execution_count": 8,
     "metadata": {},
     "output_type": "execute_result"
    }
   ],
   "source": [
    "dataset[0]"
   ]
  },
  {
   "cell_type": "markdown",
   "metadata": {},
   "source": [
    "# Prompt Learning"
   ]
  },
  {
   "cell_type": "markdown",
   "metadata": {},
   "source": [
    "### 1. Define the task"
   ]
  },
  {
   "cell_type": "code",
   "execution_count": 9,
   "metadata": {},
   "outputs": [],
   "source": [
    "classes = [0, 1, 2, 3, 4]\n",
    "dataset = dataset"
   ]
  },
  {
   "cell_type": "markdown",
   "metadata": {},
   "source": [
    "### 2. Obtain a PLM"
   ]
  },
  {
   "cell_type": "code",
   "execution_count": 10,
   "metadata": {},
   "outputs": [
    {
     "data": {
      "application/vnd.jupyter.widget-view+json": {
       "model_id": "8649ee99dd5640bbb64b527df472a3eb",
       "version_major": 2,
       "version_minor": 0
      },
      "text/plain": [
       "Downloading:   0%|          | 0.00/478M [00:00<?, ?B/s]"
      ]
     },
     "metadata": {},
     "output_type": "display_data"
    }
   ],
   "source": [
    "plm, tokenizer, model_config, WrapperClass = load_plm(\"roberta\", \"roberta-base\")"
   ]
  },
  {
   "cell_type": "markdown",
   "metadata": {},
   "source": [
    "### 3. Define a Template"
   ]
  },
  {
   "cell_type": "code",
   "execution_count": 11,
   "metadata": {},
   "outputs": [],
   "source": [
    "promptTemplate = ManualTemplate(\n",
    "    text = '{\"placeholder\":\"text_a\"} Overall, it was a {\"mask\"} movie',\n",
    "    tokenizer = tokenizer,\n",
    ")"
   ]
  },
  {
   "cell_type": "markdown",
   "metadata": {},
   "source": [
    "### 4. Define a Verbalizer"
   ]
  },
  {
   "cell_type": "code",
   "execution_count": 12,
   "metadata": {},
   "outputs": [],
   "source": [
    "promptVerbalizer = ManualVerbalizer(\n",
    "    classes = classes,\n",
    "    label_words = {\n",
    "        0: [\"awful\"],\n",
    "        1: [\"bad\"],\n",
    "        2: [\"fair\"],\n",
    "        3: [\"good\"],\n",
    "        4: [\"wonderful\"]\n",
    "    },\n",
    "    tokenizer = tokenizer,\n",
    ")"
   ]
  },
  {
   "cell_type": "markdown",
   "metadata": {},
   "source": [
    "### 5. Construct a PromptModel"
   ]
  },
  {
   "cell_type": "code",
   "execution_count": 13,
   "metadata": {},
   "outputs": [],
   "source": [
    "use_cuda = True\n",
    "promptModel = PromptForClassification(\n",
    "    template = promptTemplate,\n",
    "    plm = plm,\n",
    "    verbalizer = promptVerbalizer,\n",
    ")\n",
    "\n",
    "if use_cuda:\n",
    "    promptModel=  promptModel.cuda()"
   ]
  },
  {
   "cell_type": "markdown",
   "metadata": {},
   "source": [
    "### 6. Define a DataLoader"
   ]
  },
  {
   "cell_type": "code",
   "execution_count": 14,
   "metadata": {},
   "outputs": [
    {
     "name": "stderr",
     "output_type": "stream",
     "text": [
      "tokenizing: 0it [00:00, ?it/s]Token indices sequence length is longer than the specified maximum sequence length for this model (699 > 512). Running this sequence through the model will result in indexing errors\n",
      "tokenizing: 228362it [04:50, 785.80it/s]\n"
     ]
    }
   ],
   "source": [
    "# keep the same configuration as the fine-tune one\n",
    "data_loader = PromptDataLoader(\n",
    "    dataset = dataset,\n",
    "    tokenizer = tokenizer,\n",
    "    template = promptTemplate,\n",
    "    tokenizer_wrapper_class=WrapperClass,\n",
    "    max_seq_length=32, \n",
    "    batch_size=64,\n",
    "    truncate_method=\"tail\")\n"
   ]
  },
  {
   "cell_type": "markdown",
   "metadata": {},
   "source": [
    "### 7. Train the PromptModel"
   ]
  },
  {
   "cell_type": "code",
   "execution_count": null,
   "metadata": {},
   "outputs": [
    {
     "name": "stderr",
     "output_type": "stream",
     "text": [
      "/ext3/conda/bootcamp/lib/python3.8/site-packages/transformers/optimization.py:306: FutureWarning: This implementation of AdamW is deprecated and will be removed in a future version. Use the PyTorch implementation torch.optim.AdamW instead, or set `no_deprecation_warning=True` to disable this warning\n",
      "  warnings.warn(\n"
     ]
    },
    {
     "name": "stdout",
     "output_type": "stream",
     "text": [
      "Epoch 0, average loss: 3.5071699619293213\n",
      "Epoch 0, average loss: 0.8078640838583072\n",
      "Epoch 0, average loss: 0.891600956807246\n",
      "Epoch 0, average loss: 0.9217628665878962\n",
      "Epoch 1, average loss: 0.7407188415527344\n",
      "Epoch 1, average loss: 0.724041262489117\n",
      "Epoch 1, average loss: 0.8062348875192019\n",
      "Epoch 1, average loss: 0.8288681076456117\n",
      "Epoch 2, average loss: 0.6173214018344879\n",
      "Epoch 2, average loss: 0.6350456218043725\n",
      "Epoch 2, average loss: 0.6958646667408538\n",
      "Epoch 2, average loss: 0.7098145088916775\n",
      "Epoch 3, average loss: 0.5173135101795197\n",
      "Epoch 3, average loss: 0.5239091502751657\n",
      "Epoch 3, average loss: 0.5683232396989912\n",
      "Epoch 3, average loss: 0.5774010521999444\n",
      "Epoch 4, average loss: 0.4004942625761032\n",
      "Epoch 4, average loss: 0.4253824239303014\n",
      "Epoch 4, average loss: 0.4608810225670988\n",
      "Epoch 4, average loss: 0.4662388004536314\n",
      "Epoch 5, average loss: 0.3716484308242798\n",
      "Epoch 5, average loss: 0.34313777692154973\n",
      "Epoch 5, average loss: 0.3734265411241012\n",
      "Epoch 5, average loss: 0.37786953512834837\n",
      "Epoch 6, average loss: 0.3832358717918396\n",
      "Epoch 6, average loss: 0.2772977593393918\n",
      "Epoch 6, average loss: 0.297020647933448\n",
      "Epoch 6, average loss: 0.2998810738814048\n",
      "Epoch 7, average loss: 0.2374013066291809\n",
      "Epoch 7, average loss: 0.223972452094336\n",
      "Epoch 7, average loss: 0.23343877570441254\n",
      "Epoch 7, average loss: 0.23541467219993203\n",
      "Epoch 8, average loss: 0.2767249792814255\n",
      "Epoch 8, average loss: 0.18926383588210255\n",
      "Epoch 8, average loss: 0.196320351137855\n",
      "Epoch 8, average loss: 0.1968080073844475\n",
      "Epoch 9, average loss: 0.14093918353319168\n",
      "Epoch 9, average loss: 0.1564641541777227\n",
      "Epoch 9, average loss: 0.1665340787000753\n",
      "Epoch 9, average loss: 0.1670299121975988\n"
     ]
    }
   ],
   "source": [
    "loss_func = torch.nn.CrossEntropyLoss()\n",
    "no_decay = ['bias', 'LayerNorm.weight']\n",
    "\n",
    "# it's always good practice to set no decay to biase and LayerNorm parameters\n",
    "optimizer_grouped_parameters = [\n",
    "    {'params': [p for n, p in promptModel.named_parameters() if not any(nd in n for nd in no_decay)], 'weight_decay': 0.01},\n",
    "    {'params': [p for n, p in promptModel.named_parameters() if any(nd in n for nd in no_decay)], 'weight_decay': 0.0}\n",
    "]\n",
    "\n",
    "optimizer = AdamW(optimizer_grouped_parameters, lr=5e-5) \n",
    "\n",
    "for epoch in range(10):\n",
    "    tot_loss = 0\n",
    "    for step, inputs in enumerate(data_loader):\n",
    "        if use_cuda:\n",
    "            inputs = inputs.cuda()\n",
    "        logits = promptModel(inputs)\n",
    "        labels = inputs['label']\n",
    "        loss = loss_func(logits, labels)\n",
    "        loss.backward()\n",
    "        tot_loss += loss.item()\n",
    "        optimizer.step()\n",
    "        optimizer.zero_grad()\n",
    "        if step %1000 ==1:\n",
    "            print(\"Epoch {}, average loss: {}\".format(epoch, tot_loss/(step+1)), flush=True)\n"
   ]
  },
  {
   "cell_type": "markdown",
   "metadata": {},
   "source": [
    "### 8. Evaluation and Prediction"
   ]
  },
  {
   "cell_type": "code",
   "execution_count": null,
   "metadata": {},
   "outputs": [],
   "source": [
    "# load the entire dataset\n",
    "all_data = load_dataset('amazon_us_reviews', 'Video_v1_00', split='train')\n",
    "\n",
    "# remove unuseful columns\n",
    "all_data = all_data.remove_columns(['customer_id','product_id','marketplace', 'review_id', 'product_parent', 'product_title', 'product_category', \\\n",
    "                      'helpful_votes', 'total_votes', 'vine', 'verified_purchase', 'review_date', 'review_headline'])\n",
    "\n",
    "# rename columns\n",
    "all_data = all_data.rename_column(\"star_rating\", \"labels\")\n",
    "all_data = all_data.rename_column(\"review_body\", \"text\")\n",
    "\n",
    "# convert star rating that ranging from 1-5 to labels that ranging from 0-4\n",
    "all_data = all_data.map(to_label)\n",
    "\n",
    "# create dataset for prompting\n",
    "all_dataset = []\n",
    "for i in range(len(all_data)):\n",
    "    original_data = all_data[i]\n",
    "    data = InputExample(label = original_data['labels'],\n",
    "                        text_a = original_data['text'])\n",
    "    all_dataset.append(data)\n",
    "\n",
    "all_dataset[0]"
   ]
  },
  {
   "cell_type": "code",
   "execution_count": null,
   "metadata": {},
   "outputs": [],
   "source": [
    "# create validation dataloader\n",
    "validation_dataloader = PromptDataLoader(\n",
    "    dataset = all_dataset,\n",
    "    tokenizer = tokenizer,\n",
    "    template = promptTemplate,\n",
    "    tokenizer_wrapper_class=WrapperClass,\n",
    "    max_seq_length=32, \n",
    "    batch_size=64,\n",
    "    truncate_method=\"tail\")"
   ]
  },
  {
   "cell_type": "code",
   "execution_count": null,
   "metadata": {},
   "outputs": [],
   "source": [
    "# get predictions with the trained prompt model\n",
    "allpreds = []\n",
    "alllabels = []\n",
    "\n",
    "for step, inputs in enumerate(validation_dataloader):\n",
    "    if use_cuda:\n",
    "        inputs = inputs.cuda()\n",
    "    logits = promptModel(inputs)\n",
    "    labels = inputs['label']\n",
    "    alllabels.extend(labels.cpu().tolist())\n",
    "    allpreds.extend(torch.argmax(logits, dim=-1).cpu().tolist())"
   ]
  },
  {
   "cell_type": "code",
   "execution_count": null,
   "metadata": {},
   "outputs": [],
   "source": [
    "# calculate accuracy and f1\n",
    "acc = accuracy_score(alllabels, allpreds)\n",
    "f1 = f1_score(alllabels, allpreds, average='weighted')\n",
    "\n",
    "print(f'Accuracy: {acc}')\n",
    "print(f'F1 score: {f1}')"
   ]
  },
  {
   "cell_type": "markdown",
   "metadata": {},
   "source": [
    "# Save the dataset expanded with prompt based sentiment rating"
   ]
  },
  {
   "cell_type": "code",
   "execution_count": null,
   "metadata": {},
   "outputs": [],
   "source": [
    "# expand the original dataset with the predicted rating\n",
    "data = load_dataset('amazon_us_reviews', 'Video_v1_00', split='train')\n",
    "data = data.remove_columns(['marketplace', 'review_id', 'product_parent', 'product_title', 'product_category', \\\n",
    "                      'helpful_votes', 'total_votes', 'vine', 'verified_purchase', 'review_date'])\n",
    "\n",
    "data = data[:]\n",
    "allpreds = np.array(allpreds)\n",
    "data['senti_rating_prompt'] = allpreds + 1"
   ]
  },
  {
   "cell_type": "code",
   "execution_count": null,
   "metadata": {},
   "outputs": [],
   "source": [
    "df = pd.DataFrame.from_dict(data)\n",
    "\n",
    "# extract variables needed for CF recommender\n",
    "df= df[['customer_id', 'product_id', 'star_rating', 'senti_rating_prompt']]\n",
    "df.rename(columns = {'customer_id' : 'user', 'product_id' : 'item', 'star_rating' : 'rating'}, inplace = True)\n",
    "df.head()"
   ]
  },
  {
   "cell_type": "code",
   "execution_count": null,
   "metadata": {},
   "outputs": [],
   "source": [
    "# save as csv files\n",
    "df.to_csv('../data/amazon_video_roberta_prompt.csv')"
   ]
  },
  {
   "cell_type": "code",
   "execution_count": null,
   "metadata": {},
   "outputs": [],
   "source": []
  }
 ],
 "metadata": {
  "kernelspec": {
   "display_name": "my_env",
   "language": "python",
   "name": "my_env"
  },
  "language_info": {
   "codemirror_mode": {
    "name": "ipython",
    "version": 3
   },
   "file_extension": ".py",
   "mimetype": "text/x-python",
   "name": "python",
   "nbconvert_exporter": "python",
   "pygments_lexer": "ipython3",
   "version": "3.8.10"
  }
 },
 "nbformat": 4,
 "nbformat_minor": 4
}
